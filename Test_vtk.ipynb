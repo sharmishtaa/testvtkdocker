{
 "cells": [
  {
   "cell_type": "code",
   "execution_count": null,
   "metadata": {},
   "outputs": [],
   "source": [
    "#!/usr/bin/env python\n",
    "\n",
    "# This simple example shows how to do basic rendering and pipeline\n",
    "# creation.\n",
    "\n",
    "import vtk\n",
    "#from itkwidgets import view\n",
    "from IPython.display import Image\n",
    "def vtk_show(renderer, width=400, height=300):\n",
    "    \"\"\"\n",
    "    Takes vtkRenderer instance and returns an IPython Image with the rendering.\n",
    "    \"\"\"\n",
    "    renderWindow = vtk.vtkRenderWindow()\n",
    "    #renderWindow.SetOffScreenRendering(1)\n",
    "    #renderWindow.AddRenderer(renderer)\n",
    "    #renderWindow.SetSize(width, height)\n",
    "    renderWindow.Render()\n",
    "     \n",
    "    #windowToImageFilter = vtk.vtkWindowToImageFilter()\n",
    "    #windowToImageFilter.SetInput(renderWindow)\n",
    "    #windowToImageFilter.Update()\n",
    "     \n",
    "    #writer = vtk.vtkPNGWriter()\n",
    "    #writer.SetWriteToMemory(1)\n",
    "    #writer.SetInputConnection(windowToImageFilter.GetOutputPort())\n",
    "    #writer.Write()\n",
    "    #data = str(buffer(writer.GetResult()))\n",
    "    \n",
    "    #return None\n",
    "    #return Image(data)\n",
    "    #view(Image(data))\n",
    "\n",
    "VtkSourceSphere = vtk.vtkSphereSource()\n",
    "VtkSourceSphere.SetCenter(0.0, 0.0, 0.0)\n",
    "VtkSourceSphere.SetRadius(10.0)\n",
    "VtkSourceSphere.SetPhiResolution(360)\n",
    "VtkSourceSphere.SetThetaResolution(360)\n",
    "\n",
    "VtkMapperSphere = vtk.vtkPolyDataMapper()\n",
    "VtkMapperSphere.SetInputConnection(VtkSourceSphere.GetOutputPort())\n",
    "\n",
    "VtkActorSphere = vtk.vtkActor()\n",
    "VtkActorSphere.SetMapper(VtkMapperSphere)\n",
    "VtkActorSphere.GetProperty().SetColor(1.0, 0.0, 0.0)\n",
    "\n",
    "VtkRenderer = vtk.vtkRenderer()\n",
    "VtkRenderer.SetBackground(1.0, 1.0, 1.0)\n",
    "VtkRenderer.AddActor(VtkActorSphere)\n",
    "\n",
    "\n",
    "vtk_show(VtkRenderer)\n",
    "\n"
   ]
  },
  {
   "cell_type": "code",
   "execution_count": null,
   "metadata": {},
   "outputs": [],
   "source": []
  },
  {
   "cell_type": "code",
   "execution_count": null,
   "metadata": {},
   "outputs": [],
   "source": []
  },
  {
   "cell_type": "code",
   "execution_count": null,
   "metadata": {},
   "outputs": [],
   "source": []
  }
 ],
 "metadata": {
  "kernelspec": {
   "display_name": "Python 3",
   "language": "python",
   "name": "python3"
  },
  "language_info": {
   "codemirror_mode": {
    "name": "ipython",
    "version": 3
   },
   "file_extension": ".py",
   "mimetype": "text/x-python",
   "name": "python",
   "nbconvert_exporter": "python",
   "pygments_lexer": "ipython3",
   "version": "3.5.2"
  }
 },
 "nbformat": 4,
 "nbformat_minor": 2
}
