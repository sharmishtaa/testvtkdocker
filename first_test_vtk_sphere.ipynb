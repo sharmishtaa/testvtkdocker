{
 "cells": [
  {
   "cell_type": "code",
   "execution_count": null,
   "metadata": {},
   "outputs": [],
   "source": [
    "import vtk\n",
    "from IPython.display import Image\n",
    "\n",
    "def vtk_show_image():\n",
    "    \"\"\"\n",
    "    Takes vtkRenderer instance and returns an IPython Image with the rendering.\n",
    "    \"\"\"\n",
    "    width=200\n",
    "    height=200\n",
    "    \n",
    "    source = vtk.vtkSphereSource()\n",
    "    source.SetCenter(0, 0, 0)\n",
    "    source.SetRadius(5.0)\n",
    "        \n",
    "    VtkMapperSphere = vtk.vtkPolyDataMapper()\n",
    "    VtkMapperSphere.SetInputConnection(source.GetOutputPort())\n",
    "\n",
    "    VtkActorSphere = vtk.vtkActor()\n",
    "    VtkActorSphere.SetMapper(VtkMapperSphere)\n",
    "    VtkActorSphere.GetProperty().SetColor(1.0, 0.0, 0.0)\n",
    "\n",
    "    VtkRenderer = vtk.vtkRenderer()\n",
    "    VtkRenderer.SetBackground(0.0, 0.0, 0.0)\n",
    "    VtkRenderer.AddActor(VtkActorSphere)\n",
    "    \n",
    "    renderWindow = vtk.vtkRenderWindow()\n",
    "    renderWindow.SetOffScreenRendering(1)\n",
    "    renderWindow.AddRenderer(VtkRenderer)\n",
    "    renderWindow.SetSize(width, height)\n",
    "    renderWindow.Render()\n",
    "     \n",
    "    windowToImageFilter = vtk.vtkWindowToImageFilter()\n",
    "    windowToImageFilter.SetInput(renderWindow)\n",
    "    windowToImageFilter.Update()\n",
    "     \n",
    "    writer = vtk.vtkPNGWriter()\n",
    "    writer.SetWriteToMemory(1)\n",
    "    writer.SetInputConnection(windowToImageFilter.GetOutputPort())\n",
    "    writer.Write()\n",
    "    data = memoryview(writer.GetResult()).tobytes()\n",
    "    \n",
    "    display(Image(data))\n",
    "\n",
    "\n",
    "vtk_show_image()\n",
    "\n"
   ]
  }
 ],
 "metadata": {
  "kernelspec": {
   "display_name": "Python 3",
   "language": "python",
   "name": "python3"
  },
  "language_info": {
   "codemirror_mode": {
    "name": "ipython",
    "version": 3
   },
   "file_extension": ".py",
   "mimetype": "text/x-python",
   "name": "python",
   "nbconvert_exporter": "python",
   "pygments_lexer": "ipython3",
   "version": "3.5.2"
  }
 },
 "nbformat": 4,
 "nbformat_minor": 2
}
